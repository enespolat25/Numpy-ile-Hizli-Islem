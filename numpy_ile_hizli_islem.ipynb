{
  "nbformat": 4,
  "nbformat_minor": 0,
  "metadata": {
    "colab": {
      "name": "numpy_ile_hizli_islem.ipynb",
      "version": "0.3.2",
      "provenance": [],
      "collapsed_sections": []
    },
    "kernelspec": {
      "name": "python3",
      "display_name": "Python 3"
    },
    "accelerator": "GPU"
  },
  "cells": [
    {
      "cell_type": "markdown",
      "metadata": {
        "id": "-8KCGeEconPC",
        "colab_type": "text"
      },
      "source": [
        "# NUMPY İLE HIZLI İŞLEM\n",
        "\n",
        "Python'u veri madenciliği için kullanırken, genellikle çok büyük veri kümeleriyle çalışmak gerekir. Bu büyük veri setleri doğrudan belleğe okunur ve Python dizileri, listeleri veya sözlükleri olarak saklanır ve işlenir.\n",
        "\n",
        "Bu tür büyük dizilerle çalışmak zaman alabilir; bu veri büyüklüğünün doğasıdır. Binlerce, milyonlarca, hatta milyarlarca verimiz olabilir. Bu veri noktalarından bir tanesinin işlenmesine eklenen her bir mikrosaniye, üzerinde çalıştığınız verilerin büyük bir sonucu olarak sizi yavaşlatabilir."
      ]
    },
    {
      "cell_type": "markdown",
      "metadata": {
        "id": "XxUZEmDFmDfo",
        "colab_type": "text"
      },
      "source": [
        "# KLASİK FOR DÖNGÜSÜ İLE İŞLEM YAPMA\n",
        "## Gerekli Kütüpheneler"
      ]
    },
    {
      "cell_type": "code",
      "metadata": {
        "id": "sQrd4M91l1CQ",
        "colab_type": "code",
        "colab": {}
      },
      "source": [
        "import time\n",
        "import numpy as np"
      ],
      "execution_count": 0,
      "outputs": []
    },
    {
      "cell_type": "markdown",
      "metadata": {
        "id": "O_5F-8TkSf0P",
        "colab_type": "text"
      },
      "source": [
        "Aşağıdaki kod 1.0000001 değerini tek başına 1 miryar kez çarpıyor!"
      ]
    },
    {
      "cell_type": "code",
      "metadata": {
        "id": "g6IAIHLKmxzT",
        "colab_type": "code",
        "outputId": "d888ae5f-a8f7-4466-901f-b85a06bd1be4",
        "colab": {
          "base_uri": "https://localhost:8080/",
          "height": 34
        }
      },
      "source": [
        "baslangic_zamani= time.time()\n",
        "veri= np.ones(shape=(1000, 1000), dtype=np.float)\n",
        "for i in range(1000):\n",
        "  veri *= 1.0000001\n",
        "   \n",
        "bitis_zamani = time.time()\n",
        "ilk_yontem=bitis_zamani - baslangic_zamani\n",
        "print(\"İşlem  süresi = {}\".format(bitis_zamani - baslangic_zamani))\n"
      ],
      "execution_count": 9,
      "outputs": [
        {
          "output_type": "stream",
          "text": [
            "İşlem  süresi = 0.3624153137207031\n"
          ],
          "name": "stdout"
        }
      ]
    },
    {
      "cell_type": "markdown",
      "metadata": {
        "id": "0D8XIibupLgY",
        "colab_type": "text"
      },
      "source": [
        "# İNDİSLEYEREK İŞLEM YAPALIM\n",
        "\n",
        "Her biri 1 değerinde 1000x1000 boyutunda bir Numpy dizisi oluşturacağız ve yine her bir öğeyi 1.0000001 katsayısıya çarpmaya çalışacağız. Kod aşağıda gösterilmiştir."
      ]
    },
    {
      "cell_type": "code",
      "metadata": {
        "id": "NMpinEOMpSsm",
        "colab_type": "code",
        "outputId": "5b90f0ef-df9b-4698-bda5-7edc5796cae0",
        "colab": {
          "base_uri": "https://localhost:8080/",
          "height": 34
        }
      },
      "source": [
        "baslangic_zamani = time.time()\n",
        "\n",
        "data = np.ones(shape=(1000, 1000), dtype=np.float)\n",
        "\n",
        "for i in range(1000):\n",
        "    for j in range(1000):\n",
        "        data[i][j] *= 1.0000001\n",
        "        data[i][j] *= 1.0000001\n",
        "        data[i][j] *= 1.0000001\n",
        "        data[i][j] *= 1.0000001\n",
        "        data[i][j] *= 1.0000001\n",
        "\n",
        "bitis_zamani = time.time()\n",
        "ikinci_yontem=bitis_zamani - baslangic_zamani\n",
        "\n",
        "print(\"İşlem  süresi = {}\".format(bitis_zamani - baslangic_zamani))"
      ],
      "execution_count": 10,
      "outputs": [
        {
          "output_type": "stream",
          "text": [
            "İşlem  süresi = 1.94350266456604\n"
          ],
          "name": "stdout"
        }
      ]
    },
    {
      "cell_type": "markdown",
      "metadata": {
        "id": "-Aky2gBEpsia",
        "colab_type": "text"
      },
      "source": [
        "# NUMPY İLE AYNI İŞLEMİ YAPALIM"
      ]
    },
    {
      "cell_type": "code",
      "metadata": {
        "id": "riOnzFh6pfAF",
        "colab_type": "code",
        "outputId": "a591caaa-ad2b-4b5d-a99f-b5d463acba50",
        "colab": {
          "base_uri": "https://localhost:8080/",
          "height": 51
        }
      },
      "source": [
        "baslangic_zamani = time.time()\n",
        "\n",
        "num_multiplies = 1000000000\n",
        "data = range(num_multiplies)\n",
        "number = 1\n",
        "\n",
        "number *= np.power(1.0000001, num_multiplies)\n",
        "\n",
        "bitis_zamani = time.time()\n",
        "\n",
        "print(number)\n",
        "numpy_yontem=bitis_zamani - baslangic_zamani\n",
        "print(\"İşlem  süresi = {}\".format(baslangic_zamani - bitis_zamani))"
      ],
      "execution_count": 11,
      "outputs": [
        {
          "output_type": "stream",
          "text": [
            "2.6881038582144647e+43\n",
            "İşlem  süresi = -0.00019168853759765625\n"
          ],
          "name": "stdout"
        }
      ]
    },
    {
      "cell_type": "code",
      "metadata": {
        "id": "Xmkz04YrqZOl",
        "colab_type": "code",
        "colab": {
          "base_uri": "https://localhost:8080/",
          "height": 68
        },
        "outputId": "1554a230-1d5d-460b-8309-0b964847b04b"
      },
      "source": [
        "print(ilk_yontem)\n",
        "print(ikinci_yontem)\n",
        "print(numpy_yontem)"
      ],
      "execution_count": 12,
      "outputs": [
        {
          "output_type": "stream",
          "text": [
            "0.3624153137207031\n",
            "1.94350266456604\n",
            "0.00019168853759765625\n"
          ],
          "name": "stdout"
        }
      ]
    },
    {
      "cell_type": "markdown",
      "metadata": {
        "id": "6wQsJeZ9TM4b",
        "colab_type": "text"
      },
      "source": [
        "İlk Yöntem ile numpy ı kullandığımız yöntemin süre olarak birbirine oranı"
      ]
    },
    {
      "cell_type": "code",
      "metadata": {
        "id": "GKFlqlZpTJeL",
        "colab_type": "code",
        "colab": {
          "base_uri": "https://localhost:8080/",
          "height": 34
        },
        "outputId": "f6379534-0cc5-4842-aca0-19d56d112d73"
      },
      "source": [
        "print(ilk_yontem/numpy_yontem)"
      ],
      "execution_count": 13,
      "outputs": [
        {
          "output_type": "stream",
          "text": [
            "1890.6467661691543\n"
          ],
          "name": "stdout"
        }
      ]
    },
    {
      "cell_type": "markdown",
      "metadata": {
        "id": "pDEJUvXFTfxz",
        "colab_type": "text"
      },
      "source": [
        "### Bu uygulamamız da denediğimiz ilk yöntem süre olarak numpy ı kullandığımız yönteme kıyasla 1890 kat uzun sürmüştür.\n",
        "# Faydalı olması dileğiyle"
      ]
    },
    {
      "cell_type": "code",
      "metadata": {
        "id": "K2tI8V6XZCuF",
        "colab_type": "code",
        "colab": {}
      },
      "source": [
        ""
      ],
      "execution_count": 0,
      "outputs": []
    }
  ]
}